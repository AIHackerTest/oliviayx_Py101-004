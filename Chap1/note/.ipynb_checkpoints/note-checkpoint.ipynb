{
 "cells": [
  {
   "cell_type": "markdown",
   "metadata": {},
   "source": [
    "## 数据字典"
   ]
  },
  {
   "cell_type": "code",
   "execution_count": null,
   "metadata": {
    "collapsed": true
   },
   "outputs": [],
   "source": [
    "weather_dict = {}"
   ]
  },
  {
   "cell_type": "markdown",
   "metadata": {},
   "source": [
    "映射是通过名字来引用值的数据结构，字典是Python唯一內建的映射类型。字典由键和对应的值构成键-值对（又叫项），键和值用冒号隔开，项用逗号隔开，整个字典用大括号括起来，空字典则为{}。字典中的值没有特殊的顺序，但是存放在一个特定的键下，键可以是数字、字符串、元组。以上为初始化weather_dict为一个空字典。字典中键是唯一的，值可以不唯一。"
   ]
  },
  {
   "cell_type": "code",
   "execution_count": 10,
   "metadata": {
    "scrolled": true
   },
   "outputs": [
    {
     "data": {
      "text/plain": [
       "{'name': 'li', 'number': '121'}"
      ]
     },
     "execution_count": 10,
     "metadata": {},
     "output_type": "execute_result"
    }
   ],
   "source": [
    "items=[('name','wang'),('number','121')]\n",
    "d=dict(items)\n",
    "d[\"name\"]=\"li\"\n",
    "d"
   ]
  },
  {
   "cell_type": "markdown",
   "metadata": {},
   "source": [
    "可用这种方式创建字典，同时使用d[\"name\"]=\"li\"给字典中的键重新赋值。"
   ]
  },
  {
   "cell_type": "markdown",
   "metadata": {},
   "source": [
    "1.访问字典中的值：  \n",
    "d[key]用来访问字典中的值，如果字典中没键key会引发一个KeyError\n",
    "2.检查key是否在字典中：\n",
    "  a. d.haskeys('name')，有这返回True，没有返回False；\n",
    "  b. 'name' in d.keys(),有这返回True，没有返回False,如if user_input in weather_dict.keys():\n",
    "疑问：应该是in d.keys()，如果是 in d也可以执行，这两种方式有什么区别？"
   ]
  },
  {
   "cell_type": "code",
   "execution_count": 5,
   "metadata": {},
   "outputs": [
    {
     "name": "stdout",
     "output_type": "stream",
     "text": [
      "{'name': 'wang', 'number': '121'}\n"
     ]
    }
   ],
   "source": [
    "items=[('name','wang'),('number','121')]\n",
    "d=dict(items)\n",
    "if 'name' in d.keys():\n",
    "    print (d)"
   ]
  },
  {
   "cell_type": "code",
   "execution_count": 6,
   "metadata": {},
   "outputs": [
    {
     "name": "stdout",
     "output_type": "stream",
     "text": [
      "{'name': 'wang', 'number': '121'}\n"
     ]
    }
   ],
   "source": [
    "items=[('name','wang'),('number','121')]\n",
    "d=dict(items)\n",
    "if 'name' in d:\n",
    "    print (d)"
   ]
  },
  {
   "cell_type": "markdown",
   "metadata": {},
   "source": [
    "## for，while循环  \n",
    "### for\n"
   ]
  },
  {
   "cell_type": "markdown",
   "metadata": {},
   "source": []
  }
 ],
 "metadata": {
  "kernelspec": {
   "display_name": "Python 3",
   "language": "python",
   "name": "python3"
  },
  "language_info": {
   "codemirror_mode": {
    "name": "ipython",
    "version": 3
   },
   "file_extension": ".py",
   "mimetype": "text/x-python",
   "name": "python",
   "nbconvert_exporter": "python",
   "pygments_lexer": "ipython3",
   "version": "3.6.1"
  }
 },
 "nbformat": 4,
 "nbformat_minor": 2
}
